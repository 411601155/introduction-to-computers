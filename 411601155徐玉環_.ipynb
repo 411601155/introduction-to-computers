{
  "nbformat": 4,
  "nbformat_minor": 0,
  "metadata": {
    "colab": {
      "provenance": [],
      "authorship_tag": "ABX9TyN6VNCc/h9ubM6QQSo3NgcN",
      "include_colab_link": true
    },
    "kernelspec": {
      "name": "python3",
      "display_name": "Python 3"
    },
    "language_info": {
      "name": "python"
    }
  },
  "cells": [
    {
      "cell_type": "markdown",
      "metadata": {
        "id": "view-in-github",
        "colab_type": "text"
      },
      "source": [
        "<a href=\"https://colab.research.google.com/github/411601155/introduction-to-computers/blob/main/411601155%E5%BE%90%E7%8E%89%E7%92%B0_.ipynb\" target=\"_parent\"><img src=\"https://colab.research.google.com/assets/colab-badge.svg\" alt=\"Open In Colab\"/></a>"
      ]
    },
    {
      "cell_type": "code",
      "execution_count": 1,
      "metadata": {
        "colab": {
          "base_uri": "https://localhost:8080/"
        },
        "id": "9O6fU-McOSvh",
        "outputId": "dac17eae-d2da-44ea-bc7f-07e0ea3e8343"
      },
      "outputs": [
        {
          "output_type": "stream",
          "name": "stdout",
          "text": [
            "Hello world\n"
          ]
        }
      ],
      "source": [
        "print(\"Hello World\")"
      ]
    },
    {
      "cell_type": "code",
      "source": [
        "tmp=0"
      ],
      "metadata": {
        "id": "nLs4tC5fOnG0"
      },
      "execution_count": 3,
      "outputs": []
    },
    {
      "cell_type": "code",
      "source": [
        "test1=5"
      ],
      "metadata": {
        "id": "qh7iPd3GOmjR"
      },
      "execution_count": 8,
      "outputs": []
    },
    {
      "cell_type": "code",
      "source": [
        "test1"
      ],
      "metadata": {
        "colab": {
          "base_uri": "https://localhost:8080/"
        },
        "id": "SOVBzRm4QRH9",
        "outputId": "92a9e14b-05ca-40b3-b5c1-29ff16c26675"
      },
      "execution_count": 14,
      "outputs": [
        {
          "output_type": "execute_result",
          "data": {
            "text/plain": [
              "5"
            ]
          },
          "metadata": {},
          "execution_count": 14
        }
      ]
    },
    {
      "cell_type": "code",
      "source": [
        "for i in range (1,test1+1):\n",
        "  tmp+=i"
      ],
      "metadata": {
        "id": "GawAtoHtOnVL"
      },
      "execution_count": 16,
      "outputs": []
    },
    {
      "cell_type": "code",
      "source": [
        "print('%d' % tmp)"
      ],
      "metadata": {
        "colab": {
          "base_uri": "https://localhost:8080/"
        },
        "id": "uB3tYe5IOnj4",
        "outputId": "1344e416-a898-4991-c19a-d1b813c52b81"
      },
      "execution_count": 17,
      "outputs": [
        {
          "output_type": "stream",
          "name": "stdout",
          "text": [
            "15\n"
          ]
        }
      ]
    },
    {
      "cell_type": "code",
      "source": [
        "華氏溫度=100"
      ],
      "metadata": {
        "id": "ojZN3kGGQnh2"
      },
      "execution_count": 18,
      "outputs": []
    },
    {
      "cell_type": "code",
      "source": [
        "F=華氏溫度"
      ],
      "metadata": {
        "id": "HpZBbtCfRoLn"
      },
      "execution_count": 23,
      "outputs": []
    },
    {
      "cell_type": "code",
      "source": [
        "float(F)"
      ],
      "metadata": {
        "colab": {
          "base_uri": "https://localhost:8080/"
        },
        "id": "nplO8v9RR33w",
        "outputId": "afafbddc-246d-4a79-fa3f-0a8bd6e958d9"
      },
      "execution_count": 25,
      "outputs": [
        {
          "output_type": "execute_result",
          "data": {
            "text/plain": [
              "100.0"
            ]
          },
          "metadata": {},
          "execution_count": 25
        }
      ]
    },
    {
      "cell_type": "code",
      "source": [
        "攝氏溫度= (F-32)*5/9"
      ],
      "metadata": {
        "id": "9pW8PQ2kQ9iQ"
      },
      "execution_count": 26,
      "outputs": []
    },
    {
      "cell_type": "code",
      "source": [
        "x=float(攝氏溫度)"
      ],
      "metadata": {
        "id": "IMuhW9NuVMAZ"
      },
      "execution_count": 66,
      "outputs": []
    },
    {
      "cell_type": "code",
      "source": [
        "x"
      ],
      "metadata": {
        "colab": {
          "base_uri": "https://localhost:8080/"
        },
        "id": "eQBg0Ba-WIZE",
        "outputId": "4a7311ae-9845-4712-e51e-287111432886"
      },
      "execution_count": 67,
      "outputs": [
        {
          "output_type": "execute_result",
          "data": {
            "text/plain": [
              "37.77777777777778"
            ]
          },
          "metadata": {},
          "execution_count": 67
        }
      ]
    },
    {
      "cell_type": "code",
      "source": [
        "print('%.1f' %x)"
      ],
      "metadata": {
        "colab": {
          "base_uri": "https://localhost:8080/"
        },
        "id": "gZTxBepfSBqB",
        "outputId": "735a84ad-c55c-4017-8e44-54a4aa14c2ec"
      },
      "execution_count": 68,
      "outputs": [
        {
          "output_type": "stream",
          "name": "stdout",
          "text": [
            "37.8\n"
          ]
        }
      ]
    },
    {
      "cell_type": "code",
      "source": [
        "存款=int(input(\"請輸入本金存款金額\"))"
      ],
      "metadata": {
        "colab": {
          "base_uri": "https://localhost:8080/"
        },
        "id": "lKt8D4jkXP56",
        "outputId": "465a05ea-918a-47ef-ed84-6c45d6213c41"
      },
      "execution_count": 82,
      "outputs": [
        {
          "name": "stdout",
          "output_type": "stream",
          "text": [
            "請輸入本金存款金額10000\n"
          ]
        }
      ]
    },
    {
      "cell_type": "code",
      "source": [
        "複利 =1.02**6"
      ],
      "metadata": {
        "id": "-KVvL0rgYIc5"
      },
      "execution_count": 83,
      "outputs": []
    },
    {
      "cell_type": "code",
      "source": [
        "存款 *= 複利"
      ],
      "metadata": {
        "id": "sM5iquGeYXDF"
      },
      "execution_count": 84,
      "outputs": []
    },
    {
      "cell_type": "code",
      "source": [
        "print(\"6年後存款為:\"+str(存款))"
      ],
      "metadata": {
        "colab": {
          "base_uri": "https://localhost:8080/"
        },
        "id": "Hv3WGFAmYdsp",
        "outputId": "6bf336b6-972e-44f9-a4e5-cfd70448cb47"
      },
      "execution_count": 85,
      "outputs": [
        {
          "output_type": "stream",
          "name": "stdout",
          "text": [
            "6年後存款為:11261.62419264\n"
          ]
        }
      ]
    }
  ]
}