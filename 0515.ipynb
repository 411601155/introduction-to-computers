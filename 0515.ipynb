{
  "nbformat": 4,
  "nbformat_minor": 0,
  "metadata": {
    "colab": {
      "provenance": [],
      "authorship_tag": "ABX9TyNdnnnqQayXNQlyMDHdpL2N",
      "include_colab_link": true
    },
    "kernelspec": {
      "name": "python3",
      "display_name": "Python 3"
    },
    "language_info": {
      "name": "python"
    }
  },
  "cells": [
    {
      "cell_type": "markdown",
      "metadata": {
        "id": "view-in-github",
        "colab_type": "text"
      },
      "source": [
        "<a href=\"https://colab.research.google.com/github/411601155/introduction-to-computers/blob/main/0515.ipynb\" target=\"_parent\"><img src=\"https://colab.research.google.com/assets/colab-badge.svg\" alt=\"Open In Colab\"/></a>"
      ]
    },
    {
      "cell_type": "code",
      "execution_count": null,
      "metadata": {
        "colab": {
          "base_uri": "https://localhost:8080/"
        },
        "id": "JGi_mF62Q3NE",
        "outputId": "fa6fcab9-1207-4308-bd4d-e15c0b1171e0"
      },
      "outputs": [
        {
          "output_type": "stream",
          "name": "stdout",
          "text": [
            "0515\n"
          ]
        }
      ],
      "source": [
        "print(\"0515\")"
      ]
    },
    {
      "cell_type": "code",
      "source": [
        "rain=str(input(\"今天會下雨嗎:\"))\n",
        "if rain==\"Y\" or rain==\"y\":\n",
        "  print(\"出門記得帶傘！\")\n",
        "elif rain==\"N\" or rain==\"n\":\n",
        "  print(\"不用帶傘!\")\n",
        "else:\n",
        "  print(\"重新輸入\")"
      ],
      "metadata": {
        "colab": {
          "base_uri": "https://localhost:8080/"
        },
        "id": "kHJbd-1STOri",
        "outputId": "e1e40f59-49f9-4364-ca84-5de1bb1662d1"
      },
      "execution_count": null,
      "outputs": [
        {
          "output_type": "stream",
          "name": "stdout",
          "text": [
            "今天會下雨嗎:j\n",
            "重新輸入\n"
          ]
        }
      ]
    },
    {
      "cell_type": "code",
      "source": [
        "體溫=str(input(\"請輸入體溫:\"))\n",
        "if 體溫>=\"37.5\":\n",
        "  print(\"體溫過高！\")\n",
        "elif 體溫<=\"37.4\" and 體溫>=\"37.0\":\n",
        "  print(\"體溫略高!\")\n",
        "elif 體溫<=\"36.9\" and 體溫>=\"34.0\":\n",
        "  print(\"體溫正常!\")\n",
        "else:\n",
        "  print(\"體溫異常，請重新測量!\")"
      ],
      "metadata": {
        "colab": {
          "base_uri": "https://localhost:8080/"
        },
        "id": "DZa_TePWTRFd",
        "outputId": "14c7dc3f-e655-49f4-c03c-ac4bd4a66cf0"
      },
      "execution_count": null,
      "outputs": [
        {
          "output_type": "stream",
          "name": "stdout",
          "text": [
            "請輸入體溫:34\n",
            "體溫異常，請重新測量!\n"
          ]
        }
      ]
    },
    {
      "cell_type": "code",
      "source": [
        "成績=str(input(\"請輸入成績:\"))\n",
        "if 成績>=\"90\":\n",
        "  print(\"A\")\n",
        "elif 成績<=\"89\" and 成績>=\"80\":\n",
        "  print(\"B\")\n",
        "elif 成績<=\"79\" and 成績>=\"70\":\n",
        "  print(\"C\")\n",
        "elif 成績<=\"69\" and 成績>=\"60\":\n",
        "  print(\"D\")\n",
        "else:\n",
        "  print(\"E\")"
      ],
      "metadata": {
        "colab": {
          "base_uri": "https://localhost:8080/"
        },
        "id": "JE28cI0nZrYk",
        "outputId": "04e6183e-6871-4523-d26c-9abc90c91244"
      },
      "execution_count": null,
      "outputs": [
        {
          "output_type": "stream",
          "name": "stdout",
          "text": [
            "請輸入成績:50\n",
            "E\n"
          ]
        }
      ]
    },
    {
      "cell_type": "code",
      "source": [
        "季節=str(input(\"請輸入季節:\"))\n",
        "if 季節==\"3\" or 季節==\"4\"or 季節==\"5\":\n",
        "  print(str(季節)+\"月是春天!\")\n",
        "elif 季節==\"6\" or 季節==\"7\"or 季節==\"8\":\n",
        " print(str(季節)+\"月是夏天!\")\n",
        "elif 季節==\"9\" or 季節==\"10\"or 季節==\"11\":\n",
        "  print(str(季節)+\"月是秋天!\")\n",
        "elif 季節==\"12\" or 季節==\"1\"or 季節==\"2\":\n",
        "  print(str(季節)+\"月是冬天!\")\n",
        "else:\n",
        "  print(\"月份不在範圍內!\")"
      ],
      "metadata": {
        "colab": {
          "base_uri": "https://localhost:8080/"
        },
        "id": "G9rBZxNRaaeM",
        "outputId": "b05dd10d-dbd0-46e0-93f0-ec210a0844e1"
      },
      "execution_count": null,
      "outputs": [
        {
          "output_type": "stream",
          "name": "stdout",
          "text": [
            "請輸入季節:4\n",
            "4月是春天!\n"
          ]
        }
      ]
    },
    {
      "cell_type": "code",
      "source": [
        "淨額=str(input(\"請輸入今年收入淨額:\"))\n",
        "if 淨額>=\"2000000\":\n",
        "  print((\"付稅金額:\")+str(float(淨額)*0.3) +(\"元\"))\n",
        "elif 淨額<=\"1999999\" and 淨額>=\"1000000\":\n",
        "  print((\"付稅金額:\")+int(float(淨額)*0.21) +(\"元\"))\n",
        "elif 淨額<=\"999999\" and 淨額>=\"600000\":\n",
        "  print((\"付稅金額:\")+int(float(淨額)*0.13) +(\"元\"))\n",
        "elif 淨額<=\"599999\" and 淨額>=\"300000\":\n",
        "  print((\"付稅金額:\")+int(float(淨額)*0.06) +(\"元\"))\n",
        "else:\n",
        "  print(\"付稅金額:0元\")\n"
      ],
      "metadata": {
        "colab": {
          "base_uri": "https://localhost:8080/"
        },
        "id": "rvI2GCpJTPDF",
        "outputId": "ec805478-d82a-418f-96ec-4a6e330d897c"
      },
      "execution_count": 50,
      "outputs": [
        {
          "output_type": "stream",
          "name": "stdout",
          "text": [
            "請輸入今年收入淨額:2000000\n",
            "付稅金額:600000.0元\n"
          ]
        }
      ]
    },
    {
      "cell_type": "code",
      "source": [],
      "metadata": {
        "id": "DdguqSivTPS-"
      },
      "execution_count": null,
      "outputs": []
    },
    {
      "cell_type": "code",
      "source": [],
      "metadata": {
        "id": "39_DlTpjTPkt"
      },
      "execution_count": null,
      "outputs": []
    }
  ]
}